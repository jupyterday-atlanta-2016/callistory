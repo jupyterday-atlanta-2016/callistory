{
 "cells": [
  {
   "cell_type": "markdown",
   "metadata": {},
   "source": [
    "# Callistory\n",
    "\n",
    "`callistory` is a reusable project to assist creating DIY technology events.  This project will prototype the first Callisto Morn event in Atlanta, Georgia on November 11."
   ]
  },
  {
   "cell_type": "markdown",
   "metadata": {},
   "source": [
    "# Build\n",
    "\n",
    "All build logic is contained with in the `readme.ipynb` file.  Use `nbconvert` to execute this notebook with the command below.\n",
    "\n",
    "    !jupyter nbconvert --inplace --execute --to notebook readme.ipynb\n",
    "    \n",
    "## [Conference Website](https://tonyfast.github.io/callistory/)\n",
    "\n",
    "\n",
    "This project maintains an index of notebooks on the `master` branch.  The Github Pages deployment separates out the HTML and Markdown content from the source documents.   \n",
    "\n",
    "### [Travis Pages Deployment](https://docs.travis-ci.com/user/deployment/pages/)"
   ]
  },
  {
   "cell_type": "code",
   "execution_count": null,
   "metadata": {},
   "outputs": [
    {
     "data": {
      "text/markdown": [
       "    %reload_ext literacy\n",
       "    !jupyter nbconvert --to markdown *.ipynb\n",
       "    !jupyter nbconvert --TemplateExporter.exclude_input=True --TemplateExporter.exclude_input=True index.ipynb "
      ],
      "text/plain": [
       "<IPython.core.display.Markdown object>"
      ]
     },
     "metadata": {},
     "output_type": "display_data"
    }
   ],
   "source": [
    "    %reload_ext literacy\n",
    "    !jupyter nbconvert --to markdown *.ipynb\n",
    "    !jupyter nbconvert --TemplateExporter.exclude_input=True --TemplateExporter.exclude_input=True index.ipynb "
   ]
  },
  {
   "cell_type": "code",
   "execution_count": 2,
   "metadata": {},
   "outputs": [
    {
     "data": {
      "text/markdown": [
       "\n",
       "# [contributing](contributing.ipynb)\n",
       "\n",
       "`callistory` treats DIY event organization as open source piece of software.\n",
       "\n",
       "## Development\n",
       "\n",
       "* __[readme.ipynb](readme.ipynb)__ provides instruction for external services.\n",
       "* __[about.ipynb](about.ipynb)__ provides information about the event.  Who what where when how why.\n",
       "* __[long.ipynb](long.ipynb)__ provides provides long format presentations information.\n",
       "* __[short.ipynb](short.ipynb)__ provides provides short format presentations information.\n",
       "* __[participants.ipynb](participants.ipynb)__ provides extra information about the conference participants.\n",
       "* __[code_of_conduct.md](code_of_conduct.md)__\n"
      ],
      "text/plain": [
       "<IPython.core.display.Markdown object>"
      ]
     },
     "metadata": {},
     "output_type": "display_data"
    }
   ],
   "source": [
    "contributing.md"
   ]
  },
  {
   "cell_type": "code",
   "execution_count": 3,
   "metadata": {},
   "outputs": [
    {
     "data": {
      "text/markdown": [
       "    %%file custom.css\n",
       "    .output code {display: none;}"
      ],
      "text/plain": [
       "<IPython.core.display.Markdown object>"
      ]
     },
     "metadata": {},
     "output_type": "display_data"
    },
    {
     "name": "stdout",
     "output_type": "stream",
     "text": [
      "Overwriting custom.css\n"
     ]
    }
   ],
   "source": [
    "    %%file custom.css\n",
    "    .output code {display: none;}"
   ]
  }
 ],
 "metadata": {
  "kernelspec": {
   "display_name": "Python 3",
   "language": "python",
   "name": "python3"
  },
  "language_info": {
   "codemirror_mode": {
    "name": "ipython",
    "version": 3
   },
   "file_extension": ".py",
   "mimetype": "text/x-python",
   "name": "python",
   "nbconvert_exporter": "python",
   "pygments_lexer": "ipython3",
   "version": "3.5.3"
  }
 },
 "nbformat": 4,
 "nbformat_minor": 2
}
