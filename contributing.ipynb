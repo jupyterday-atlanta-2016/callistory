{
 "cells": [
  {
   "cell_type": "markdown",
   "metadata": {},
   "source": [
    "# [contributing](contributing.ipynb)\n",
    "\n",
    "`callistory` treats DIY event organization as open source piece of software."
   ]
  },
  {
   "cell_type": "markdown",
   "metadata": {},
   "source": [
    "## Development\n",
    "\n",
    "* __[readme.ipynb](readme.ipynb)__ provides instruction for external services.\n",
    "* __[about.ipynb](about.ipynb)__ provides information about the event.  Who what where when how why.\n",
    "* __[long.ipynb](long.ipynb)__ provides provides long format presentations information.\n",
    "* __[short.ipynb](short.ipynb)__ provides provides short format presentations information.\n",
    "* __[participants.ipynb](participants.ipynb)__ provides extra information about the conference participants.\n",
    "* __[code_of_conduct.md](code_of_conduct.md)__"
   ]
  }
 ],
 "metadata": {
  "kernelspec": {
   "display_name": "Python 3",
   "language": "python",
   "name": "python3"
  },
  "language_info": {
   "codemirror_mode": {
    "name": "ipython",
    "version": 3
   },
   "file_extension": ".py",
   "mimetype": "text/x-python",
   "name": "python",
   "nbconvert_exporter": "python",
   "pygments_lexer": "ipython3",
   "version": "3.5.3"
  }
 },
 "nbformat": 4,
 "nbformat_minor": 2
}
