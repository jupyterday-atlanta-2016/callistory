{
 "cells": [
  {
   "cell_type": "code",
   "execution_count": 8,
   "metadata": {},
   "outputs": [
    {
     "data": {
      "text/markdown": [
       "    %reload_ext literacy.template\n",
       "    from pandas import *"
      ],
      "text/plain": [
       "<IPython.core.display.Markdown object>"
      ]
     },
     "metadata": {},
     "output_type": "display_data"
    }
   ],
   "source": [
    "    %reload_ext literacy.template\n",
    "    from pandas import *"
   ]
  },
  {
   "cell_type": "code",
   "execution_count": 9,
   "metadata": {},
   "outputs": [
    {
     "data": {
      "text/markdown": [
       "\n",
       "# Callisto Morn #1\n",
       "\n",
       "## _on_ November 11, 2017 _@_ the Georgia Tech Research Institute\n",
       "\n",
       "__Callisto Morn__ is a satellite conference orbitting the Project Jupyter.  At each __Callisto Morn__, Jupyter beginners and veterans will join to share the gravity of their work.  These events will organize designers, developers, and scientists across the southeast region.\n",
       "\n",
       "# Coming Soon\n",
       "\n",
       "## [Submit a Talk](https://docs.google.com/forms/d/e/1FAIpQLSfY1c4y2vLE-q3VMBjOpvTi4pK5D6Q9KudNk25AsxQUjsT3eA/viewform)\n",
       "\n",
       "\n",
       "## [Github](https://github.com/tonyfast/callistory) \n",
       "\n",
       "[![Gitter](https://badges.gitter.im/tonyfast/callistory.svg)](https://gitter.im/tonyfast/callistory?utm_source=badge&utm_medium=badge&utm_campaign=pr-badge&utm_content=body_badge)\n",
       "\n",
       "## ~~[Tickets]()~~\n",
       "\n",
       "\n",
       "```python\n",
       "\n",
       "```\n"
      ],
      "text/plain": [
       "<IPython.core.display.Markdown object>"
      ]
     },
     "metadata": {},
     "output_type": "display_data"
    }
   ],
   "source": [
    "about.md"
   ]
  },
  {
   "cell_type": "markdown",
   "metadata": {},
   "source": [
    "# Case Studies"
   ]
  },
  {
   "cell_type": "code",
   "execution_count": 3,
   "metadata": {},
   "outputs": [
    {
     "data": {
      "text/markdown": [
       "\n",
       "* __9:45-10:15__\n",
       "\n",
       "* __10:15-10:45__\n",
       "\n",
       "* __10:45-11:15__\n",
       "\n",
       "# [Powers ofTen and the relative size of things in science](# \"Nick and Tony\")\n",
       "\n",
       "#### Nick Bollweg and Tony Fast\n",
       "\n",
       "Science, and its application to engineering, policy, and business, ultimately affects people and communities. In solving new problems, while we may make use of ever more data and computers, we must also have greater impact and reach for people.  Open science, along with open source software and open data, continues to expand the frontiers of innovation.\n",
       "\n",
       "Join Nick and Tony in traversing the powers of ten with data-driven stories.  Experts in visual problem solving with Jupyter, Nick and Tony have explored problems across technology silos, length scales, and disciplines.  Together, we hope to provide a rough map of what might be on open science’s frontier of reusable, computable information, or, failing that, a style guide for any citizen scientist looking to access new powers often from the cutting edges of open science and software.\n",
       "\n",
       "<iframe width=\"640\" height=\"360\" src=\"https://www.youtube.com/embed/0fKBhvDjuy0\" frameborder=\"0\" allowfullscreen></iframe>\n",
       "\n",
       "\n",
       "```python\n",
       "\n",
       "```\n"
      ],
      "text/plain": [
       "<IPython.core.display.Markdown object>"
      ]
     },
     "metadata": {},
     "output_type": "display_data"
    }
   ],
   "source": [
    "long.md"
   ]
  },
  {
   "cell_type": "markdown",
   "metadata": {},
   "source": [
    "# Short Talks "
   ]
  },
  {
   "cell_type": "code",
   "execution_count": 4,
   "metadata": {},
   "outputs": [
    {
     "data": {
      "text/markdown": [
       "\n",
       "* __11:30-11:45__\n",
       "\n",
       "* __11:45-12:00__\n",
       "\n",
       "* __12:00-12:10__\n",
       "\n",
       "* __12:10-12:20__\n",
       "\n",
       "* __12:20-12:30__\n",
       "\n",
       "    ## Collective Questions\n"
      ],
      "text/plain": [
       "<IPython.core.display.Markdown object>"
      ]
     },
     "metadata": {},
     "output_type": "display_data"
    }
   ],
   "source": [
    "short.md"
   ]
  },
  {
   "cell_type": "code",
   "execution_count": 5,
   "metadata": {},
   "outputs": [
    {
     "data": {
      "text/markdown": [
       "# [Full Schedule Schedule](https://docs.google.com/spreadsheets/d/1progwXRpRXaRc31xXmxviSD1YcysxT-U2fRdk99hzgA/edit#gid=0)\n",
       "\n",
       "    read_csv('schedule.csv')"
      ],
      "text/plain": [
       "<IPython.core.display.Markdown object>"
      ]
     },
     "metadata": {},
     "output_type": "display_data"
    },
    {
     "data": {
      "text/html": [
       "<div>\n",
       "<style>\n",
       "    .dataframe thead tr:only-child th {\n",
       "        text-align: right;\n",
       "    }\n",
       "\n",
       "    .dataframe thead th {\n",
       "        text-align: left;\n",
       "    }\n",
       "\n",
       "    .dataframe tbody tr th {\n",
       "        vertical-align: top;\n",
       "    }\n",
       "</style>\n",
       "<table border=\"1\" class=\"dataframe\">\n",
       "  <thead>\n",
       "    <tr style=\"text-align: right;\">\n",
       "      <th></th>\n",
       "      <th>start</th>\n",
       "      <th>end</th>\n",
       "      <th>section</th>\n",
       "      <th>description</th>\n",
       "    </tr>\n",
       "  </thead>\n",
       "  <tbody>\n",
       "    <tr>\n",
       "      <th>0</th>\n",
       "      <td>8:30</td>\n",
       "      <td>9:00</td>\n",
       "      <td>Registration</td>\n",
       "      <td>Code of Conduct</td>\n",
       "    </tr>\n",
       "    <tr>\n",
       "      <th>1</th>\n",
       "      <td>9:00</td>\n",
       "      <td>9:10</td>\n",
       "      <td>Open remarks</td>\n",
       "      <td>NaN</td>\n",
       "    </tr>\n",
       "    <tr>\n",
       "      <th>2</th>\n",
       "      <td>9:10</td>\n",
       "      <td>9:45</td>\n",
       "      <td>Panel Discussion</td>\n",
       "      <td>4 people</td>\n",
       "    </tr>\n",
       "    <tr>\n",
       "      <th>3</th>\n",
       "      <td>9:45</td>\n",
       "      <td>10:15</td>\n",
       "      <td>30 Min Case Study</td>\n",
       "      <td>NaN</td>\n",
       "    </tr>\n",
       "    <tr>\n",
       "      <th>4</th>\n",
       "      <td>10:15</td>\n",
       "      <td>10:45</td>\n",
       "      <td>30 Min Case Study</td>\n",
       "      <td>NaN</td>\n",
       "    </tr>\n",
       "    <tr>\n",
       "      <th>5</th>\n",
       "      <td>10:45</td>\n",
       "      <td>11:15</td>\n",
       "      <td>Powers Often</td>\n",
       "      <td>Nick and Tony</td>\n",
       "    </tr>\n",
       "    <tr>\n",
       "      <th>6</th>\n",
       "      <td>11:15</td>\n",
       "      <td>11:30</td>\n",
       "      <td>Break</td>\n",
       "      <td>Left over coffee</td>\n",
       "    </tr>\n",
       "    <tr>\n",
       "      <th>7</th>\n",
       "      <td>11:30</td>\n",
       "      <td>11:45</td>\n",
       "      <td>15 min talk</td>\n",
       "      <td>NaN</td>\n",
       "    </tr>\n",
       "    <tr>\n",
       "      <th>8</th>\n",
       "      <td>11:45</td>\n",
       "      <td>12:00</td>\n",
       "      <td>15 min talk</td>\n",
       "      <td>NaN</td>\n",
       "    </tr>\n",
       "    <tr>\n",
       "      <th>9</th>\n",
       "      <td>12:00</td>\n",
       "      <td>12:10</td>\n",
       "      <td>10 min talk</td>\n",
       "      <td>NaN</td>\n",
       "    </tr>\n",
       "    <tr>\n",
       "      <th>10</th>\n",
       "      <td>12:10</td>\n",
       "      <td>12:20</td>\n",
       "      <td>10 min talk</td>\n",
       "      <td>NaN</td>\n",
       "    </tr>\n",
       "    <tr>\n",
       "      <th>11</th>\n",
       "      <td>12:20</td>\n",
       "      <td>12:30</td>\n",
       "      <td>Question from previous talks</td>\n",
       "      <td>NaN</td>\n",
       "    </tr>\n",
       "    <tr>\n",
       "      <th>12</th>\n",
       "      <td>12:30</td>\n",
       "      <td>12:45</td>\n",
       "      <td>Tiny Talks</td>\n",
       "      <td>Shorts 2 min talks about the day</td>\n",
       "    </tr>\n",
       "    <tr>\n",
       "      <th>13</th>\n",
       "      <td>12:45</td>\n",
       "      <td>1:00</td>\n",
       "      <td>Business Business Business</td>\n",
       "      <td>Announcements</td>\n",
       "    </tr>\n",
       "  </tbody>\n",
       "</table>\n",
       "</div>"
      ],
      "text/plain": [
       "    start    end                       section  \\\n",
       "0    8:30   9:00                  Registration   \n",
       "1    9:00   9:10                  Open remarks   \n",
       "2    9:10   9:45              Panel Discussion   \n",
       "3    9:45  10:15             30 Min Case Study   \n",
       "4   10:15  10:45             30 Min Case Study   \n",
       "5   10:45  11:15                  Powers Often   \n",
       "6   11:15  11:30                         Break   \n",
       "7   11:30  11:45                   15 min talk   \n",
       "8   11:45  12:00                   15 min talk   \n",
       "9   12:00  12:10                   10 min talk   \n",
       "10  12:10  12:20                   10 min talk   \n",
       "11  12:20  12:30  Question from previous talks   \n",
       "12  12:30  12:45                    Tiny Talks   \n",
       "13  12:45   1:00    Business Business Business   \n",
       "\n",
       "                         description  \n",
       "0                    Code of Conduct  \n",
       "1                                NaN  \n",
       "2                           4 people  \n",
       "3                                NaN  \n",
       "4                                NaN  \n",
       "5                      Nick and Tony  \n",
       "6                   Left over coffee  \n",
       "7                                NaN  \n",
       "8                                NaN  \n",
       "9                                NaN  \n",
       "10                               NaN  \n",
       "11                               NaN  \n",
       "12  Shorts 2 min talks about the day  \n",
       "13                     Announcements  "
      ]
     },
     "execution_count": 5,
     "metadata": {},
     "output_type": "execute_result"
    }
   ],
   "source": [
    "# [Full Schedule Schedule](https://docs.google.com/spreadsheets/d/1progwXRpRXaRc31xXmxviSD1YcysxT-U2fRdk99hzgA/edit#gid=0)\n",
    "\n",
    "    read_csv('schedule.csv')"
   ]
  },
  {
   "cell_type": "code",
   "execution_count": 6,
   "metadata": {},
   "outputs": [
    {
     "data": {
      "text/markdown": [
       "\n",
       "# [contributing](contributing.ipynb)\n",
       "\n",
       "`callistory` treats DIY event organization as open source piece of software.\n",
       "\n",
       "## Development\n",
       "\n",
       "* __[readme.ipynb](readme.ipynb)__ provides instruction for external services.\n",
       "* __[about.ipynb](about.ipynb)__ provides information about the event.  Who what where when how why.\n",
       "* __[long.ipynb](long.ipynb)__ provides provides long format presentations information.\n",
       "* __[short.ipynb](short.ipynb)__ provides provides short format presentations information.\n",
       "* __[participants.ipynb](participants.ipynb)__ provides extra information about the conference participants.\n",
       "* __[code_of_conduct.md](code_of_conduct.md)__\n"
      ],
      "text/plain": [
       "<IPython.core.display.Markdown object>"
      ]
     },
     "metadata": {},
     "output_type": "display_data"
    }
   ],
   "source": [
    "contributing.md"
   ]
  }
 ],
 "metadata": {
  "kernelspec": {
   "display_name": "Python 3",
   "language": "python",
   "name": "python3"
  },
  "language_info": {
   "codemirror_mode": {
    "name": "ipython",
    "version": 3
   },
   "file_extension": ".py",
   "mimetype": "text/x-python",
   "name": "python",
   "nbconvert_exporter": "python",
   "pygments_lexer": "ipython3",
   "version": "3.5.3"
  }
 },
 "nbformat": 4,
 "nbformat_minor": 2
}
